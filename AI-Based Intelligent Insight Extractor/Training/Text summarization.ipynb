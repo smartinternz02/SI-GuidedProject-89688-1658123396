{
 "cells": [
  {
   "cell_type": "markdown",
   "id": "a83f1f58",
   "metadata": {},
   "source": [
    "# What is spaCy?\n",
    "### spaCy is a free, open-source advanced natural language processing library, written in the programming languages Python and Cython. spaCy mainly used in the development of production software and also supports deep learning workflow via statistical models of PyTorch and TensorFlow.\n",
    "\n"
   ]
  },
  {
   "cell_type": "markdown",
   "id": "e55c7c14",
   "metadata": {},
   "source": [
    "# Why spaCy?\n",
    "### spaCy provides a fast and accurate syntactic analysis, named entity recognition and ready access to word vectors. We can use the default word vectors or replace them with any you have. spaCy also offers tokenization, sentence boundary detection, POS tagging, syntactic parsing, integrated word vectors, and alignment into the original string with high accuracy.\n",
    "\n"
   ]
  },
  {
   "cell_type": "markdown",
   "id": "7079f292",
   "metadata": {},
   "source": [
    "# Text summarization can broadly be divided into two categories — Extractive Summarization and Abstractive Summarization.\n",
    "\n",
    "   ### 1. Extractive Summarization: These methods rely on extracting several parts, such as phrases and sentences, from a piece of text and stack them together to create a summary. Therefore, identifying the right sentences for summarization is of utmost importance in an extractive method.\n",
    "   ### 2. Abstractive Summarization: These methods use advanced NLP techniques to generate an entirely new summary. Some parts of this summary may not even appear in the original text.\n"
   ]
  },
  {
   "cell_type": "code",
   "execution_count": 2,
   "id": "7dd997f1",
   "metadata": {},
   "outputs": [],
   "source": [
    "# Importing the required packages\n",
    "\n",
    "import spacy\n",
    "from spacy.lang.en.stop_words import STOP_WORDS\n",
    "from string import punctuation\n",
    "import numpy as np"
   ]
  },
  {
   "cell_type": "code",
   "execution_count": 4,
   "id": "f19ef57f",
   "metadata": {
    "scrolled": false
   },
   "outputs": [
    {
     "name": "stdout",
     "output_type": "stream",
     "text": [
      "Machine learning (ML) and artificial intelligence (AI) are becoming dominant problem-solving techniques in many areas of research and industry, not least because of the recent successes of deep learning (DL). However, the equation AI=ML=DL, as recently suggested in the news, blogs, and media, falls too short. These fields share the same fundamental hypotheses: computation is a useful way to model intelligent behavior in machines. What kind of computation and how to program it? This is not the right question. Computation neither rules out search, logical, and probabilistic techniques, nor (deep) (un)supervised and reinforcement learning methods, among others, as computational models do include all of them. They complement each other, and the next breakthrough lies not only in pushing each of them but also in combining them.\n",
      "\n",
      "Big Data is no fad. The world is growing at an exponential rate and so is the size of the data collected across the globe. Data is becoming more meaningful and contextually relevant, breaking new grounds for machine learning (ML), in particular for deep learning (DL) and artificial intelligence (AI), moving them out of research labs into production (Jordan and Mitchell, 2015). The problem has shifted from collecting massive amounts of data to understanding it—turning it into knowledge, conclusions, and actions. Multiple research disciplines, from cognitive sciences to biology, finance, physics, and social sciences, as well as many companies believe that data-driven and “intelligent” solutions are necessary to solve many of their key problems. High-throughput genomic and proteomic experiments can be used to enable personalized medicine. Large data sets of search queries can be used to improve information retrieval. Historical climate data can be used to understand global warming and to better predict weather. Large amounts of sensor readings and hyperspectral images of plants can be used to identify drought conditions and to gain insights into when and how stress impacts plant growth and development and in turn how to counterattack the problem of world hunger. Game data can turn pixels into actions within video games, while observational data can help enable robots to understand complex and unstructured environments and to learn manipulation skills.\n",
      "\n",
      "However, is AI, ML, and DL really synonymous, as recently suggested in the news, blogs, and media? For example, when AlphaGo (Silver et al., 2016) defeated South Korean Master Lee Se-dol in the board game Go in 2016, the terms AI, ML, and DL were used by the media to describe how AlphaGo won. In addition to this, even Gartner's list (Panetta, 2017) of top 10 Strategic Trends for 2018 places (narrow) AI at the very top, specifying it as “consisting of highly scoped machine-learning solutions that target a specific task.\n"
     ]
    }
   ],
   "source": [
    "# Passing the input data\n",
    "\n",
    "doc = \"\"\"Machine learning (ML) and artificial intelligence (AI) are becoming dominant problem-solving techniques in many areas of research and industry, not least because of the recent successes of deep learning (DL). However, the equation AI=ML=DL, as recently suggested in the news, blogs, and media, falls too short. These fields share the same fundamental hypotheses: computation is a useful way to model intelligent behavior in machines. What kind of computation and how to program it? This is not the right question. Computation neither rules out search, logical, and probabilistic techniques, nor (deep) (un)supervised and reinforcement learning methods, among others, as computational models do include all of them. They complement each other, and the next breakthrough lies not only in pushing each of them but also in combining them.\n",
    "\n",
    "Big Data is no fad. The world is growing at an exponential rate and so is the size of the data collected across the globe. Data is becoming more meaningful and contextually relevant, breaking new grounds for machine learning (ML), in particular for deep learning (DL) and artificial intelligence (AI), moving them out of research labs into production (Jordan and Mitchell, 2015). The problem has shifted from collecting massive amounts of data to understanding it—turning it into knowledge, conclusions, and actions. Multiple research disciplines, from cognitive sciences to biology, finance, physics, and social sciences, as well as many companies believe that data-driven and “intelligent” solutions are necessary to solve many of their key problems. High-throughput genomic and proteomic experiments can be used to enable personalized medicine. Large data sets of search queries can be used to improve information retrieval. Historical climate data can be used to understand global warming and to better predict weather. Large amounts of sensor readings and hyperspectral images of plants can be used to identify drought conditions and to gain insights into when and how stress impacts plant growth and development and in turn how to counterattack the problem of world hunger. Game data can turn pixels into actions within video games, while observational data can help enable robots to understand complex and unstructured environments and to learn manipulation skills.\n",
    "\n",
    "However, is AI, ML, and DL really synonymous, as recently suggested in the news, blogs, and media? For example, when AlphaGo (Silver et al., 2016) defeated South Korean Master Lee Se-dol in the board game Go in 2016, the terms AI, ML, and DL were used by the media to describe how AlphaGo won. In addition to this, even Gartner's list (Panetta, 2017) of top 10 Strategic Trends for 2018 places (narrow) AI at the very top, specifying it as “consisting of highly scoped machine-learning solutions that target a specific task.\"\"\"\n",
    "\n",
    "print(doc)"
   ]
  },
  {
   "cell_type": "code",
   "execution_count": 2,
   "id": "b8264179",
   "metadata": {},
   "outputs": [
    {
     "name": "stdout",
     "output_type": "stream",
     "text": [
      "['other', 'not', 'show', 'whoever', 'thereby', 'indeed', 'another', 'fifty', 'hence', 'below', 'whether', 'where', 'hereafter', 'should', 'your', 'own', 'formerly', 'go', \"'ve\", 'some', 'rather', '‘ll', 'myself', 'top', 'might', 'others', 'get', 'above', 'eleven', 'nine', 'sixty', 'beyond', 'otherwise', 'down', 'all', 'during', 'along', 'here', 'therefore', 'us', 'give', 'his', 'an', 'few', 'to', 'former', 'thus', 'twenty', 'whatever', 'but', 'fifteen', 'throughout', 'via', 'ten', 'the', 'just', 'with', 'around', 'yourselves', 'you', 'often', \"'d\", 'without', 'which', 'amongst', 'about', 'what', 'wherever', 'thereupon', 'than', '’m', 'those', 'two', 'sometimes', 'nobody', 'between', 'have', 'therein', 'onto', 'serious', 'already', 'everywhere', 'too', 'for', 'thence', 'by', 'they', 'perhaps', 'side', 'would', 'of', 'amount', 'how', 'themselves', 'less', 'am', 'there', 'up', 'sometime', 'anyway', 'six', 'this', 'is', 'three', 'yours', 'out', 'towards', 'becomes', 'most', 'could', 'forty', \"'re\", 'except', 'used', 'enough', '’ve', '’ll', 'her', 'behind', 'put', 'though', 'only', 'was', 'before', 'hereupon', 'why', 'until', 'namely', 'herself', 'then', 'various', 'elsewhere', 'please', 'ca', 'itself', 'quite', 'after', 'one', 'cannot', 'several', 'beforehand', 'yourself', 'from', 'has', 'me', 'and', 'thereafter', 'wherein', 'are', 'a', 'since', 'when', 'anyhow', 'or', 'being', 'even', 'nothing', 'neither', 'part', 'regarding', 'four', 'beside', 'per', 'very', 'upon', 'at', 'although', 'still', 'either', 'ours', 'over', 'whose', 'on', 'five', 'can', 'full', 'in', 'thru', 'afterwards', 'doing', 'last', 'whereupon', \"'ll\", 'back', 'first', 'eight', 'name', 'always', 'take', 'well', 'herein', 'them', 'their', 'now', 'due', 'become', 'ourselves', 'across', '’d', 'move', 'alone', 'hundred', 'whither', 'off', 'more', 'any', 'both', 'whereas', 'hers', \"n't\", '‘s', 'really', 'nowhere', 'somewhere', 'while', 'keep', 'somehow', '‘ve', 'else', 'however', 'may', '‘m', 'third', 'anyone', 'many', 'that', 'whereby', 'if', 'every', 'these', 'nevertheless', 'again', 'mine', 'as', 'were', 're', 'who', 'i', 'does', 'together', 'whenever', 'see', \"'m\", 'had', 'meanwhile', 'within', 'seemed', 'front', 'whom', 'bottom', 'something', 'further', 'must', 'whence', 'into', 'besides', '‘re', 'toward', 'under', 'do', 'each', 'once', '‘d', 'moreover', 'seem', 'been', 'against', 'did', 'someone', 'also', 'twelve', 'whole', 'everyone', 'much', 'n‘t', 'latterly', 'unless', 'yet', 'n’t', 'done', 'ever', 'we', 'whereafter', 'so', '’s', 'latter', 'least', 'be', 'empty', 'anything', 'made', 'becoming', 'our', 'none', 'will', 'himself', 'such', 'through', 'hereby', 'everything', 'she', 'it', 'next', 'among', 'make', 'noone', 'no', 'same', '’re', 'him', 'almost', 'using', 'nor', 'seeming', 'mostly', 'never', 'he', 'say', 'anywhere', 'because', \"'s\", 'my', 'became', 'its', 'call', 'seems']\n"
     ]
    }
   ],
   "source": [
    "# To visualize the stop words\n",
    "\n",
    "stopWords = list(STOP_WORDS)\n",
    "print(stopWords)"
   ]
  },
  {
   "cell_type": "code",
   "execution_count": 3,
   "id": "017539c0",
   "metadata": {},
   "outputs": [],
   "source": [
    "# Loading english language... (3 different packages are available --small--medium--large). We are loading small packages.\n",
    "\n",
    "nlp = spacy.load('en_core_web_sm')"
   ]
  },
  {
   "cell_type": "code",
   "execution_count": 5,
   "id": "062b32c1",
   "metadata": {},
   "outputs": [
    {
     "name": "stdout",
     "output_type": "stream",
     "text": [
      "Machine learning (ML) and artificial intelligence (AI) are becoming dominant problem-solving techniques in many areas of research and industry, not least because of the recent successes of deep learning (DL). However, the equation AI=ML=DL, as recently suggested in the news, blogs, and media, falls too short. These fields share the same fundamental hypotheses: computation is a useful way to model intelligent behavior in machines. What kind of computation and how to program it? This is not the right question. Computation neither rules out search, logical, and probabilistic techniques, nor (deep) (un)supervised and reinforcement learning methods, among others, as computational models do include all of them. They complement each other, and the next breakthrough lies not only in pushing each of them but also in combining them.\n",
      "\n",
      "Big Data is no fad. The world is growing at an exponential rate and so is the size of the data collected across the globe. Data is becoming more meaningful and contextually relevant, breaking new grounds for machine learning (ML), in particular for deep learning (DL) and artificial intelligence (AI), moving them out of research labs into production (Jordan and Mitchell, 2015). The problem has shifted from collecting massive amounts of data to understanding it—turning it into knowledge, conclusions, and actions. Multiple research disciplines, from cognitive sciences to biology, finance, physics, and social sciences, as well as many companies believe that data-driven and “intelligent” solutions are necessary to solve many of their key problems. High-throughput genomic and proteomic experiments can be used to enable personalized medicine. Large data sets of search queries can be used to improve information retrieval. Historical climate data can be used to understand global warming and to better predict weather. Large amounts of sensor readings and hyperspectral images of plants can be used to identify drought conditions and to gain insights into when and how stress impacts plant growth and development and in turn how to counterattack the problem of world hunger. Game data can turn pixels into actions within video games, while observational data can help enable robots to understand complex and unstructured environments and to learn manipulation skills.\n",
      "\n",
      "However, is AI, ML, and DL really synonymous, as recently suggested in the news, blogs, and media? For example, when AlphaGo (Silver et al., 2016) defeated South Korean Master Lee Se-dol in the board game Go in 2016, the terms AI, ML, and DL were used by the media to describe how AlphaGo won. In addition to this, even Gartner's list (Panetta, 2017) of top 10 Strategic Trends for 2018 places (narrow) AI at the very top, specifying it as “consisting of highly scoped machine-learning solutions that target a specific task.\n"
     ]
    }
   ],
   "source": [
    "# We are passing the input data to spacy \n",
    "\n",
    "docs = nlp(doc)\n",
    "print(doc)"
   ]
  },
  {
   "cell_type": "code",
   "execution_count": 6,
   "id": "445ea91d",
   "metadata": {},
   "outputs": [
    {
     "name": "stdout",
     "output_type": "stream",
     "text": [
      "['Machine', 'learning', '(', 'ML', ')', 'and', 'artificial', 'intelligence', '(', 'AI', ')', 'are', 'becoming', 'dominant', 'problem', '-', 'solving', 'techniques', 'in', 'many', 'areas', 'of', 'research', 'and', 'industry', ',', 'not', 'least', 'because', 'of', 'the', 'recent', 'successes', 'of', 'deep', 'learning', '(', 'DL', ')', '.', 'However', ',', 'the', 'equation', 'AI', '=', 'ML', '=', 'DL', ',', 'as', 'recently', 'suggested', 'in', 'the', 'news', ',', 'blogs', ',', 'and', 'media', ',', 'falls', 'too', 'short', '.', 'These', 'fields', 'share', 'the', 'same', 'fundamental', 'hypotheses', ':', 'computation', 'is', 'a', 'useful', 'way', 'to', 'model', 'intelligent', 'behavior', 'in', 'machines', '.', 'What', 'kind', 'of', 'computation', 'and', 'how', 'to', 'program', 'it', '?', 'This', 'is', 'not', 'the', 'right', 'question', '.', 'Computation', 'neither', 'rules', 'out', 'search', ',', 'logical', ',', 'and', 'probabilistic', 'techniques', ',', 'nor', '(', 'deep', ')', '(', 'un)supervised', 'and', 'reinforcement', 'learning', 'methods', ',', 'among', 'others', ',', 'as', 'computational', 'models', 'do', 'include', 'all', 'of', 'them', '.', 'They', 'complement', 'each', 'other', ',', 'and', 'the', 'next', 'breakthrough', 'lies', 'not', 'only', 'in', 'pushing', 'each', 'of', 'them', 'but', 'also', 'in', 'combining', 'them', '.', '\\n\\n', 'Big', 'Data', 'is', 'no', 'fad', '.', 'The', 'world', 'is', 'growing', 'at', 'an', 'exponential', 'rate', 'and', 'so', 'is', 'the', 'size', 'of', 'the', 'data', 'collected', 'across', 'the', 'globe', '.', 'Data', 'is', 'becoming', 'more', 'meaningful', 'and', 'contextually', 'relevant', ',', 'breaking', 'new', 'grounds', 'for', 'machine', 'learning', '(', 'ML', ')', ',', 'in', 'particular', 'for', 'deep', 'learning', '(', 'DL', ')', 'and', 'artificial', 'intelligence', '(', 'AI', ')', ',', 'moving', 'them', 'out', 'of', 'research', 'labs', 'into', 'production', '(', 'Jordan', 'and', 'Mitchell', ',', '2015', ')', '.', 'The', 'problem', 'has', 'shifted', 'from', 'collecting', 'massive', 'amounts', 'of', 'data', 'to', 'understanding', 'it', '—', 'turning', 'it', 'into', 'knowledge', ',', 'conclusions', ',', 'and', 'actions', '.', 'Multiple', 'research', 'disciplines', ',', 'from', 'cognitive', 'sciences', 'to', 'biology', ',', 'finance', ',', 'physics', ',', 'and', 'social', 'sciences', ',', 'as', 'well', 'as', 'many', 'companies', 'believe', 'that', 'data', '-', 'driven', 'and', '“', 'intelligent', '”', 'solutions', 'are', 'necessary', 'to', 'solve', 'many', 'of', 'their', 'key', 'problems', '.', 'High', '-', 'throughput', 'genomic', 'and', 'proteomic', 'experiments', 'can', 'be', 'used', 'to', 'enable', 'personalized', 'medicine', '.', 'Large', 'data', 'sets', 'of', 'search', 'queries', 'can', 'be', 'used', 'to', 'improve', 'information', 'retrieval', '.', 'Historical', 'climate', 'data', 'can', 'be', 'used', 'to', 'understand', 'global', 'warming', 'and', 'to', 'better', 'predict', 'weather', '.', 'Large', 'amounts', 'of', 'sensor', 'readings', 'and', 'hyperspectral', 'images', 'of', 'plants', 'can', 'be', 'used', 'to', 'identify', 'drought', 'conditions', 'and', 'to', 'gain', 'insights', 'into', 'when', 'and', 'how', 'stress', 'impacts', 'plant', 'growth', 'and', 'development', 'and', 'in', 'turn', 'how', 'to', 'counterattack', 'the', 'problem', 'of', 'world', 'hunger', '.', 'Game', 'data', 'can', 'turn', 'pixels', 'into', 'actions', 'within', 'video', 'games', ',', 'while', 'observational', 'data', 'can', 'help', 'enable', 'robots', 'to', 'understand', 'complex', 'and', 'unstructured', 'environments', 'and', 'to', 'learn', 'manipulation', 'skills', '.', '\\n\\n', 'However', ',', 'is', 'AI', ',', 'ML', ',', 'and', 'DL', 'really', 'synonymous', ',', 'as', 'recently', 'suggested', 'in', 'the', 'news', ',', 'blogs', ',', 'and', 'media', '?', 'For', 'example', ',', 'when', 'AlphaGo', '(', 'Silver', 'et', 'al', '.', ',', '2016', ')', 'defeated', 'South', 'Korean', 'Master', 'Lee', 'Se', '-', 'dol', 'in', 'the', 'board', 'game', 'Go', 'in', '2016', ',', 'the', 'terms', 'AI', ',', 'ML', ',', 'and', 'DL', 'were', 'used', 'by', 'the', 'media', 'to', 'describe', 'how', 'AlphaGo', 'won', '.', 'In', 'addition', 'to', 'this', ',', 'even', 'Gartner', \"'s\", 'list', '(', 'Panetta', ',', '2017', ')', 'of', 'top', '10', 'Strategic', 'Trends', 'for', '2018', 'places', '(', 'narrow', ')', 'AI', 'at', 'the', 'very', 'top', ',', 'specifying', 'it', 'as', '“', 'consisting', 'of', 'highly', 'scoped', 'machine', '-', 'learning', 'solutions', 'that', 'target', 'a', 'specific', 'task', '.']\n"
     ]
    }
   ],
   "source": [
    "# Word tokenization is performed\n",
    "\n",
    "tokens = [i.text for i in docs]\n",
    "print(tokens)"
   ]
  },
  {
   "cell_type": "code",
   "execution_count": 3,
   "id": "59e4116e",
   "metadata": {},
   "outputs": [
    {
     "data": {
      "text/plain": [
       "'!\"#$%&\\'()*+,-./:;<=>?@[\\\\]^_`{|}~\\n'"
      ]
     },
     "execution_count": 3,
     "metadata": {},
     "output_type": "execute_result"
    }
   ],
   "source": [
    "# Punctuation\n",
    "\n",
    "punctuation = punctuation + '\\n'\n",
    "punctuation"
   ]
  },
  {
   "cell_type": "code",
   "execution_count": 4,
   "id": "74f089b7",
   "metadata": {
    "scrolled": true
   },
   "outputs": [
    {
     "name": "stdout",
     "output_type": "stream",
     "text": [
      "!\n",
      "\"\n",
      "#\n",
      "$\n",
      "%\n",
      "&\n",
      "'\n",
      "(\n",
      ")\n",
      "*\n",
      "+\n",
      ",\n",
      "-\n",
      ".\n",
      "/\n",
      ":\n",
      ";\n",
      "<\n",
      "=\n",
      ">\n",
      "?\n",
      "@\n",
      "[\n",
      "\\\n",
      "]\n",
      "^\n",
      "_\n",
      "`\n",
      "{\n",
      "|\n",
      "}\n",
      "~\n",
      "\n",
      "\n"
     ]
    }
   ],
   "source": [
    "for i in punctuation:\n",
    "    print(i)"
   ]
  },
  {
   "cell_type": "code",
   "execution_count": 8,
   "id": "cf250f9d",
   "metadata": {},
   "outputs": [
    {
     "name": "stdout",
     "output_type": "stream",
     "text": [
      "{'Machine': 1, 'learning': 6, 'ML': 5, 'artificial': 2, 'intelligence': 2, 'AI': 6, 'dominant': 1, 'problem': 3, 'solving': 1, 'techniques': 2, 'areas': 1, 'research': 3, 'industry': 1, 'recent': 1, 'successes': 1, 'deep': 3, 'DL': 5, 'equation': 1, 'recently': 2, 'suggested': 2, 'news': 2, 'blogs': 2, 'media': 3, 'falls': 1, 'short': 1, 'fields': 1, 'share': 1, 'fundamental': 1, 'hypotheses': 1, 'computation': 2, 'useful': 1, 'way': 1, 'model': 1, 'intelligent': 2, 'behavior': 1, 'machines': 1, 'kind': 1, 'program': 1, 'right': 1, 'question': 1, 'Computation': 1, 'rules': 1, 'search': 2, 'logical': 1, 'probabilistic': 1, 'un)supervised': 1, 'reinforcement': 1, 'methods': 1, 'computational': 1, 'models': 1, 'include': 1, 'complement': 1, 'breakthrough': 1, 'lies': 1, 'pushing': 1, 'combining': 1, '\\n\\n': 2, 'Big': 1, 'Data': 2, 'fad': 1, 'world': 2, 'growing': 1, 'exponential': 1, 'rate': 1, 'size': 1, 'data': 7, 'collected': 1, 'globe': 1, 'meaningful': 1, 'contextually': 1, 'relevant': 1, 'breaking': 1, 'new': 1, 'grounds': 1, 'machine': 2, 'particular': 1, 'moving': 1, 'labs': 1, 'production': 1, 'Jordan': 1, 'Mitchell': 1, '2015': 1, 'shifted': 1, 'collecting': 1, 'massive': 1, 'amounts': 2, 'understanding': 1, '—': 1, 'turning': 1, 'knowledge': 1, 'conclusions': 1, 'actions': 2, 'Multiple': 1, 'disciplines': 1, 'cognitive': 1, 'sciences': 2, 'biology': 1, 'finance': 1, 'physics': 1, 'social': 1, 'companies': 1, 'believe': 1, 'driven': 1, '“': 2, '”': 1, 'solutions': 2, 'necessary': 1, 'solve': 1, 'key': 1, 'problems': 1, 'High': 1, 'throughput': 1, 'genomic': 1, 'proteomic': 1, 'experiments': 1, 'enable': 2, 'personalized': 1, 'medicine': 1, 'Large': 2, 'sets': 1, 'queries': 1, 'improve': 1, 'information': 1, 'retrieval': 1, 'Historical': 1, 'climate': 1, 'understand': 2, 'global': 1, 'warming': 1, 'better': 1, 'predict': 1, 'weather': 1, 'sensor': 1, 'readings': 1, 'hyperspectral': 1, 'images': 1, 'plants': 1, 'identify': 1, 'drought': 1, 'conditions': 1, 'gain': 1, 'insights': 1, 'stress': 1, 'impacts': 1, 'plant': 1, 'growth': 1, 'development': 1, 'turn': 2, 'counterattack': 1, 'hunger': 1, 'Game': 1, 'pixels': 1, 'video': 1, 'games': 1, 'observational': 1, 'help': 1, 'robots': 1, 'complex': 1, 'unstructured': 1, 'environments': 1, 'learn': 1, 'manipulation': 1, 'skills': 1, 'synonymous': 1, 'example': 1, 'AlphaGo': 2, 'Silver': 1, 'et': 1, 'al': 1, '2016': 2, 'defeated': 1, 'South': 1, 'Korean': 1, 'Master': 1, 'Lee': 1, 'Se': 1, 'dol': 1, 'board': 1, 'game': 1, 'terms': 1, 'describe': 1, 'won': 1, 'addition': 1, 'Gartner': 1, 'list': 1, 'Panetta': 1, '2017': 1, '10': 1, 'Strategic': 1, 'Trends': 1, '2018': 1, 'places': 1, 'narrow': 1, 'specifying': 1, 'consisting': 1, 'highly': 1, 'scoped': 1, 'target': 1, 'specific': 1, 'task': 1}\n"
     ]
    }
   ],
   "source": [
    "word_frequencies = {}\n",
    "\n",
    "for word in docs:\n",
    "    if word.text.lower() not in stopWords:\n",
    "        if word.text.lower() not in punctuation:\n",
    "            if word.text not in word_frequencies.keys():\n",
    "                word_frequencies[word.text] = 1\n",
    "            else:\n",
    "                word_frequencies[word.text] += 1\n",
    "                \n",
    "                \n",
    "print(word_frequencies)"
   ]
  },
  {
   "cell_type": "code",
   "execution_count": 9,
   "id": "301c08a9",
   "metadata": {},
   "outputs": [
    {
     "data": {
      "text/plain": [
       "7"
      ]
     },
     "execution_count": 9,
     "metadata": {},
     "output_type": "execute_result"
    }
   ],
   "source": [
    "# Taking max frequency for normalization\n",
    "\n",
    "maxFrequency = max(word_frequencies.values())\n",
    "maxFrequency"
   ]
  },
  {
   "cell_type": "code",
   "execution_count": 10,
   "id": "d2b60e46",
   "metadata": {},
   "outputs": [],
   "source": [
    "# Normalizing the data\n",
    "\n",
    "for i in word_frequencies.keys():\n",
    "    word_frequencies[i] = word_frequencies[i]/maxFrequency\n",
    "       "
   ]
  },
  {
   "cell_type": "code",
   "execution_count": 11,
   "id": "1a0db63b",
   "metadata": {},
   "outputs": [
    {
     "name": "stdout",
     "output_type": "stream",
     "text": [
      "{'Machine': 0.14285714285714285, 'learning': 0.8571428571428571, 'ML': 0.7142857142857143, 'artificial': 0.2857142857142857, 'intelligence': 0.2857142857142857, 'AI': 0.8571428571428571, 'dominant': 0.14285714285714285, 'problem': 0.42857142857142855, 'solving': 0.14285714285714285, 'techniques': 0.2857142857142857, 'areas': 0.14285714285714285, 'research': 0.42857142857142855, 'industry': 0.14285714285714285, 'recent': 0.14285714285714285, 'successes': 0.14285714285714285, 'deep': 0.42857142857142855, 'DL': 0.7142857142857143, 'equation': 0.14285714285714285, 'recently': 0.2857142857142857, 'suggested': 0.2857142857142857, 'news': 0.2857142857142857, 'blogs': 0.2857142857142857, 'media': 0.42857142857142855, 'falls': 0.14285714285714285, 'short': 0.14285714285714285, 'fields': 0.14285714285714285, 'share': 0.14285714285714285, 'fundamental': 0.14285714285714285, 'hypotheses': 0.14285714285714285, 'computation': 0.2857142857142857, 'useful': 0.14285714285714285, 'way': 0.14285714285714285, 'model': 0.14285714285714285, 'intelligent': 0.2857142857142857, 'behavior': 0.14285714285714285, 'machines': 0.14285714285714285, 'kind': 0.14285714285714285, 'program': 0.14285714285714285, 'right': 0.14285714285714285, 'question': 0.14285714285714285, 'Computation': 0.14285714285714285, 'rules': 0.14285714285714285, 'search': 0.2857142857142857, 'logical': 0.14285714285714285, 'probabilistic': 0.14285714285714285, 'un)supervised': 0.14285714285714285, 'reinforcement': 0.14285714285714285, 'methods': 0.14285714285714285, 'computational': 0.14285714285714285, 'models': 0.14285714285714285, 'include': 0.14285714285714285, 'complement': 0.14285714285714285, 'breakthrough': 0.14285714285714285, 'lies': 0.14285714285714285, 'pushing': 0.14285714285714285, 'combining': 0.14285714285714285, '\\n\\n': 0.2857142857142857, 'Big': 0.14285714285714285, 'Data': 0.2857142857142857, 'fad': 0.14285714285714285, 'world': 0.2857142857142857, 'growing': 0.14285714285714285, 'exponential': 0.14285714285714285, 'rate': 0.14285714285714285, 'size': 0.14285714285714285, 'data': 1.0, 'collected': 0.14285714285714285, 'globe': 0.14285714285714285, 'meaningful': 0.14285714285714285, 'contextually': 0.14285714285714285, 'relevant': 0.14285714285714285, 'breaking': 0.14285714285714285, 'new': 0.14285714285714285, 'grounds': 0.14285714285714285, 'machine': 0.2857142857142857, 'particular': 0.14285714285714285, 'moving': 0.14285714285714285, 'labs': 0.14285714285714285, 'production': 0.14285714285714285, 'Jordan': 0.14285714285714285, 'Mitchell': 0.14285714285714285, '2015': 0.14285714285714285, 'shifted': 0.14285714285714285, 'collecting': 0.14285714285714285, 'massive': 0.14285714285714285, 'amounts': 0.2857142857142857, 'understanding': 0.14285714285714285, '—': 0.14285714285714285, 'turning': 0.14285714285714285, 'knowledge': 0.14285714285714285, 'conclusions': 0.14285714285714285, 'actions': 0.2857142857142857, 'Multiple': 0.14285714285714285, 'disciplines': 0.14285714285714285, 'cognitive': 0.14285714285714285, 'sciences': 0.2857142857142857, 'biology': 0.14285714285714285, 'finance': 0.14285714285714285, 'physics': 0.14285714285714285, 'social': 0.14285714285714285, 'companies': 0.14285714285714285, 'believe': 0.14285714285714285, 'driven': 0.14285714285714285, '“': 0.2857142857142857, '”': 0.14285714285714285, 'solutions': 0.2857142857142857, 'necessary': 0.14285714285714285, 'solve': 0.14285714285714285, 'key': 0.14285714285714285, 'problems': 0.14285714285714285, 'High': 0.14285714285714285, 'throughput': 0.14285714285714285, 'genomic': 0.14285714285714285, 'proteomic': 0.14285714285714285, 'experiments': 0.14285714285714285, 'enable': 0.2857142857142857, 'personalized': 0.14285714285714285, 'medicine': 0.14285714285714285, 'Large': 0.2857142857142857, 'sets': 0.14285714285714285, 'queries': 0.14285714285714285, 'improve': 0.14285714285714285, 'information': 0.14285714285714285, 'retrieval': 0.14285714285714285, 'Historical': 0.14285714285714285, 'climate': 0.14285714285714285, 'understand': 0.2857142857142857, 'global': 0.14285714285714285, 'warming': 0.14285714285714285, 'better': 0.14285714285714285, 'predict': 0.14285714285714285, 'weather': 0.14285714285714285, 'sensor': 0.14285714285714285, 'readings': 0.14285714285714285, 'hyperspectral': 0.14285714285714285, 'images': 0.14285714285714285, 'plants': 0.14285714285714285, 'identify': 0.14285714285714285, 'drought': 0.14285714285714285, 'conditions': 0.14285714285714285, 'gain': 0.14285714285714285, 'insights': 0.14285714285714285, 'stress': 0.14285714285714285, 'impacts': 0.14285714285714285, 'plant': 0.14285714285714285, 'growth': 0.14285714285714285, 'development': 0.14285714285714285, 'turn': 0.2857142857142857, 'counterattack': 0.14285714285714285, 'hunger': 0.14285714285714285, 'Game': 0.14285714285714285, 'pixels': 0.14285714285714285, 'video': 0.14285714285714285, 'games': 0.14285714285714285, 'observational': 0.14285714285714285, 'help': 0.14285714285714285, 'robots': 0.14285714285714285, 'complex': 0.14285714285714285, 'unstructured': 0.14285714285714285, 'environments': 0.14285714285714285, 'learn': 0.14285714285714285, 'manipulation': 0.14285714285714285, 'skills': 0.14285714285714285, 'synonymous': 0.14285714285714285, 'example': 0.14285714285714285, 'AlphaGo': 0.2857142857142857, 'Silver': 0.14285714285714285, 'et': 0.14285714285714285, 'al': 0.14285714285714285, '2016': 0.2857142857142857, 'defeated': 0.14285714285714285, 'South': 0.14285714285714285, 'Korean': 0.14285714285714285, 'Master': 0.14285714285714285, 'Lee': 0.14285714285714285, 'Se': 0.14285714285714285, 'dol': 0.14285714285714285, 'board': 0.14285714285714285, 'game': 0.14285714285714285, 'terms': 0.14285714285714285, 'describe': 0.14285714285714285, 'won': 0.14285714285714285, 'addition': 0.14285714285714285, 'Gartner': 0.14285714285714285, 'list': 0.14285714285714285, 'Panetta': 0.14285714285714285, '2017': 0.14285714285714285, '10': 0.14285714285714285, 'Strategic': 0.14285714285714285, 'Trends': 0.14285714285714285, '2018': 0.14285714285714285, 'places': 0.14285714285714285, 'narrow': 0.14285714285714285, 'specifying': 0.14285714285714285, 'consisting': 0.14285714285714285, 'highly': 0.14285714285714285, 'scoped': 0.14285714285714285, 'target': 0.14285714285714285, 'specific': 0.14285714285714285, 'task': 0.14285714285714285}\n"
     ]
    }
   ],
   "source": [
    "print(word_frequencies)"
   ]
  },
  {
   "cell_type": "code",
   "execution_count": 14,
   "id": "c0e672c9",
   "metadata": {
    "scrolled": false
   },
   "outputs": [
    {
     "name": "stdout",
     "output_type": "stream",
     "text": [
      "[Machine learning (ML) and artificial intelligence (AI) are becoming dominant problem-solving techniques in many areas of research and industry, not least because of the recent successes of deep learning (DL)., However, the equation AI=ML=DL, as recently suggested in the news, blogs, and media, falls too short., These fields share the same fundamental hypotheses: computation is a useful way to model intelligent behavior in machines., What kind of computation and how to program it?, This is not the right question., Computation neither rules out search, logical, and probabilistic techniques, nor (deep) (un)supervised and reinforcement learning methods, among others, as computational models do include all of them., They complement each other, and the next breakthrough lies not only in pushing each of them but also in combining them.\n",
      "\n",
      ", Big Data is no fad., The world is growing at an exponential rate and so is the size of the data collected across the globe., Data is becoming more meaningful and contextually relevant, breaking new grounds for machine learning (ML), in particular for deep learning (DL) and artificial intelligence (AI), moving them out of research labs into production (Jordan and Mitchell, 2015)., The problem has shifted from collecting massive amounts of data to understanding it—turning it into knowledge, conclusions, and actions., Multiple research disciplines, from cognitive sciences to biology, finance, physics, and social sciences, as well as many companies believe that data-driven and “intelligent” solutions are necessary to solve many of their key problems., High-throughput genomic and proteomic experiments can be used to enable personalized medicine., Large data sets of search queries can be used to improve information retrieval., Historical climate data can be used to understand global warming and to better predict weather., Large amounts of sensor readings and hyperspectral images of plants can be used to identify drought conditions and to gain insights into when and how stress impacts plant growth and development and in turn how to counterattack the problem of world hunger., Game data can turn pixels into actions within video games, while observational data can help enable robots to understand complex and unstructured environments and to learn manipulation skills.\n",
      "\n",
      ", However, is AI, ML, and DL really synonymous, as recently suggested in the news, blogs, and media?, For example, when AlphaGo (Silver et al., 2016) defeated South Korean Master Lee Se-dol in the board game Go in 2016, the terms AI, ML, and DL were used by the media to describe how AlphaGo won., In addition to this, even Gartner's list (Panetta, 2017) of top 10 Strategic Trends for 2018 places (, narrow) AI at the very top, specifying it as “consisting of highly scoped machine-learning solutions that target a specific task.]\n"
     ]
    }
   ],
   "source": [
    "sent_tokenz = [sent for sent in docs.sents]\n",
    "print(sent_tokenz) "
   ]
  },
  {
   "cell_type": "code",
   "execution_count": 15,
   "id": "94c22e6e",
   "metadata": {},
   "outputs": [
    {
     "data": {
      "text/plain": [
       "{Machine learning (ML) and artificial intelligence (AI) are becoming dominant problem-solving techniques in many areas of research and industry, not least because of the recent successes of deep learning (DL).: 4.999999999999998,\n",
       " However, the equation AI=ML=DL, as recently suggested in the news, blogs, and media, falls too short.: 1.9999999999999998,\n",
       " These fields share the same fundamental hypotheses: computation is a useful way to model intelligent behavior in machines.: 1.8571428571428568,\n",
       " What kind of computation and how to program it?: 0.5714285714285714,\n",
       " This is not the right question.: 0.2857142857142857,\n",
       " Computation neither rules out search, logical, and probabilistic techniques, nor (deep) (un)supervised and reinforcement learning methods, among others, as computational models do include all of them.: 3.428571428571428,\n",
       " They complement each other, and the next breakthrough lies not only in pushing each of them but also in combining them.\n",
       " : 0.9999999999999999,\n",
       " Big Data is no fad.: 1.1428571428571428,\n",
       " The world is growing at an exponential rate and so is the size of the data collected across the globe.: 2.142857142857143,\n",
       " Data is becoming more meaningful and contextually relevant, breaking new grounds for machine learning (ML), in particular for deep learning (DL) and artificial intelligence (AI), moving them out of research labs into production (Jordan and Mitchell, 2015).: 6.000000000000001,\n",
       " The problem has shifted from collecting massive amounts of data to understanding it—turning it into knowledge, conclusions, and actions.: 3.1428571428571423,\n",
       " Multiple research disciplines, from cognitive sciences to biology, finance, physics, and social sciences, as well as many companies believe that data-driven and “intelligent” solutions are necessary to solve many of their key problems.: 4.857142857142858,\n",
       " High-throughput genomic and proteomic experiments can be used to enable personalized medicine.: 1.1428571428571428,\n",
       " Large data sets of search queries can be used to improve information retrieval.: 1.9999999999999996,\n",
       " Historical climate data can be used to understand global warming and to better predict weather.: 2.1428571428571423,\n",
       " Large amounts of sensor readings and hyperspectral images of plants can be used to identify drought conditions and to gain insights into when and how stress impacts plant growth and development and in turn how to counterattack the problem of world hunger.: 3.714285714285713,\n",
       " Game data can turn pixels into actions within video games, while observational data can help enable robots to understand complex and unstructured environments and to learn manipulation skills.\n",
       " : 5.285714285714287,\n",
       " However, is AI, ML, and DL really synonymous, as recently suggested in the news, blogs, and media?: 1.7142857142857142,\n",
       " For example, when AlphaGo (Silver et al., 2016) defeated South Korean Master Lee Se-dol in the board game Go in 2016, the terms AI, ML, and DL were used by the media to describe how AlphaGo won.: 2.428571428571428,\n",
       " In addition to this, even Gartner's list (Panetta, 2017) of top 10 Strategic Trends for 2018 places (: 0.857142857142857,\n",
       " narrow) AI at the very top, specifying it as “consisting of highly scoped machine-learning solutions that target a specific task.: 2.8571428571428568}"
      ]
     },
     "execution_count": 15,
     "metadata": {},
     "output_type": "execute_result"
    }
   ],
   "source": [
    "sentence_score = {}\n",
    "\n",
    "for sent in sent_tokenz:\n",
    "    for word in sent:\n",
    "        if word.text.lower() in word_frequencies.keys():\n",
    "            if sent not in sentence_score.keys():\n",
    "                sentence_score[sent] = word_frequencies[word.text.lower()]\n",
    "            else:\n",
    "                sentence_score[sent] += word_frequencies[word.text.lower()]\n",
    "                \n",
    "                \n",
    "sentence_score\n",
    "    "
   ]
  },
  {
   "cell_type": "code",
   "execution_count": 16,
   "id": "77ed3583",
   "metadata": {},
   "outputs": [],
   "source": [
    "from heapq import nlargest"
   ]
  },
  {
   "cell_type": "code",
   "execution_count": 17,
   "id": "0edf32ac",
   "metadata": {},
   "outputs": [
    {
     "data": {
      "text/plain": [
       "6"
      ]
     },
     "execution_count": 17,
     "metadata": {},
     "output_type": "execute_result"
    }
   ],
   "source": [
    "select_len = int(len(sent_tokenz)*0.3)\n",
    "select_len"
   ]
  },
  {
   "cell_type": "code",
   "execution_count": 18,
   "id": "3653405e",
   "metadata": {
    "scrolled": true
   },
   "outputs": [
    {
     "data": {
      "text/plain": [
       "[Data is becoming more meaningful and contextually relevant, breaking new grounds for machine learning (ML), in particular for deep learning (DL) and artificial intelligence (AI), moving them out of research labs into production (Jordan and Mitchell, 2015).,\n",
       " Game data can turn pixels into actions within video games, while observational data can help enable robots to understand complex and unstructured environments and to learn manipulation skills.\n",
       " ,\n",
       " Machine learning (ML) and artificial intelligence (AI) are becoming dominant problem-solving techniques in many areas of research and industry, not least because of the recent successes of deep learning (DL).,\n",
       " Multiple research disciplines, from cognitive sciences to biology, finance, physics, and social sciences, as well as many companies believe that data-driven and “intelligent” solutions are necessary to solve many of their key problems.,\n",
       " Large amounts of sensor readings and hyperspectral images of plants can be used to identify drought conditions and to gain insights into when and how stress impacts plant growth and development and in turn how to counterattack the problem of world hunger.,\n",
       " Computation neither rules out search, logical, and probabilistic techniques, nor (deep) (un)supervised and reinforcement learning methods, among others, as computational models do include all of them.]"
      ]
     },
     "execution_count": 18,
     "metadata": {},
     "output_type": "execute_result"
    }
   ],
   "source": [
    "summary = nlargest(select_len,sentence_score,sentence_score.get)\n",
    "summary"
   ]
  },
  {
   "cell_type": "code",
   "execution_count": 19,
   "id": "91a19e29",
   "metadata": {},
   "outputs": [
    {
     "data": {
      "text/plain": [
       "['Data is becoming more meaningful and contextually relevant, breaking new grounds for machine learning (ML), in particular for deep learning (DL) and artificial intelligence (AI), moving them out of research labs into production (Jordan and Mitchell, 2015).',\n",
       " 'Game data can turn pixels into actions within video games, while observational data can help enable robots to understand complex and unstructured environments and to learn manipulation skills.\\n\\n',\n",
       " 'Machine learning (ML) and artificial intelligence (AI) are becoming dominant problem-solving techniques in many areas of research and industry, not least because of the recent successes of deep learning (DL).',\n",
       " 'Multiple research disciplines, from cognitive sciences to biology, finance, physics, and social sciences, as well as many companies believe that data-driven and “intelligent” solutions are necessary to solve many of their key problems.',\n",
       " 'Large amounts of sensor readings and hyperspectral images of plants can be used to identify drought conditions and to gain insights into when and how stress impacts plant growth and development and in turn how to counterattack the problem of world hunger.',\n",
       " 'Computation neither rules out search, logical, and probabilistic techniques, nor (deep) (un)supervised and reinforcement learning methods, among others, as computational models do include all of them.']"
      ]
     },
     "execution_count": 19,
     "metadata": {},
     "output_type": "execute_result"
    }
   ],
   "source": [
    "summary = [word.text for word in summary]\n",
    "summary"
   ]
  },
  {
   "cell_type": "code",
   "execution_count": 20,
   "id": "ce7faa39",
   "metadata": {},
   "outputs": [
    {
     "data": {
      "text/plain": [
       "'Data is becoming more meaningful and contextually relevant, breaking new grounds for machine learning (ML), in particular for deep learning (DL) and artificial intelligence (AI), moving them out of research labs into production (Jordan and Mitchell, 2015). Game data can turn pixels into actions within video games, while observational data can help enable robots to understand complex and unstructured environments and to learn manipulation skills.\\n\\n Machine learning (ML) and artificial intelligence (AI) are becoming dominant problem-solving techniques in many areas of research and industry, not least because of the recent successes of deep learning (DL). Multiple research disciplines, from cognitive sciences to biology, finance, physics, and social sciences, as well as many companies believe that data-driven and “intelligent” solutions are necessary to solve many of their key problems. Large amounts of sensor readings and hyperspectral images of plants can be used to identify drought conditions and to gain insights into when and how stress impacts plant growth and development and in turn how to counterattack the problem of world hunger. Computation neither rules out search, logical, and probabilistic techniques, nor (deep) (un)supervised and reinforcement learning methods, among others, as computational models do include all of them.'"
      ]
     },
     "execution_count": 20,
     "metadata": {},
     "output_type": "execute_result"
    }
   ],
   "source": [
    "summary = \" \".join(summary)\n",
    "summary"
   ]
  },
  {
   "cell_type": "code",
   "execution_count": 21,
   "id": "715f321d",
   "metadata": {},
   "outputs": [
    {
     "data": {
      "text/plain": [
       "(2834, 1353)"
      ]
     },
     "execution_count": 21,
     "metadata": {},
     "output_type": "execute_result"
    }
   ],
   "source": [
    "len(doc),len(summary)"
   ]
  },
  {
   "cell_type": "code",
   "execution_count": null,
   "id": "f20c2ad8",
   "metadata": {},
   "outputs": [],
   "source": []
  }
 ],
 "metadata": {
  "kernelspec": {
   "display_name": "Python 3 (ipykernel)",
   "language": "python",
   "name": "python3"
  },
  "language_info": {
   "codemirror_mode": {
    "name": "ipython",
    "version": 3
   },
   "file_extension": ".py",
   "mimetype": "text/x-python",
   "name": "python",
   "nbconvert_exporter": "python",
   "pygments_lexer": "ipython3",
   "version": "3.9.7"
  }
 },
 "nbformat": 4,
 "nbformat_minor": 5
}
